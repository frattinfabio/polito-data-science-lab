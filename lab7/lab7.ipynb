{
 "cells": [
  {
   "cell_type": "code",
   "execution_count": 9,
   "metadata": {},
   "outputs": [],
   "source": [
    "import os\n",
    "import platform\n",
    "import numpy as np\n",
    "from scipy.io import wavfile\n",
    "import librosa\n",
    "\n",
    "dir_separator = {\"Windows\": \"\\\\\", \"Linux\": \"/\"}\n",
    "system = platform.system()\n",
    "slash = dir_separator[system]\n",
    "path = os.getcwd()\n",
    "\n",
    "sr = 8000 \n",
    "# Reading data from \"dev\" folder\n",
    "dev_path = path + slash + \"dev\"\n",
    "dev_data = []\n",
    "dev_labels = []\n",
    "\n",
    "# Extracting data from recording (filename = \"id_label.wav\")\n",
    "for file in os.listdir(dev_path):\n",
    "    file_label = file[-5:-4]\n",
    "    dev_data.append(librosa.load(dev_path + slash + file, sr = sr)[0])\n",
    "    dev_labels.append(int(file_label))\n",
    "\n",
    "# Reading data from \"eval\" folder\n",
    "eval_path = path + slash + \"eval\"\n",
    "eval_data = []\n",
    "\n",
    "\n",
    "eval_files = sorted(os.listdir(eval_path), key = lambda x: int(x[:-4]))\n",
    "for file in eval_files: \n",
    "    eval_data.append(librosa.load(eval_path + slash + file, sr = sr)[0])  "
   ]
  },
  {
   "cell_type": "code",
   "execution_count": 10,
   "metadata": {},
   "outputs": [
    {
     "name": "stderr",
     "output_type": "stream",
     "text": [
      "c:\\users\\fratt\\appdata\\local\\programs\\python\\python37\\lib\\site-packages\\librosa\\core\\pitch.py:146: UserWarning: Trying to estimate tuning from empty frequency set.\n",
      "  warnings.warn('Trying to estimate tuning from empty frequency set.')\n"
     ]
    }
   ],
   "source": [
    "# Feature extracion using librosa\n",
    "\n",
    "def extract_features_from_audio_data(audio_data, sr):\n",
    "    \n",
    "    chroma_stft = librosa.feature.chroma_stft(y=audio_data, sr=sr)\n",
    "    rms = librosa.feature.rms(y=audio_data)\n",
    "    spec_cent = librosa.feature.spectral_centroid(y=audio_data, sr=sr)\n",
    "    spec_bw = librosa.feature.spectral_bandwidth(y=audio_data, sr=sr)\n",
    "    rolloff = librosa.feature.spectral_rolloff(y=audio_data, sr=sr)\n",
    "    zcr = librosa.feature.zero_crossing_rate(audio_data)\n",
    "    mfcc = librosa.feature.mfcc(y=audio_data, sr=sr)\n",
    "    mfcc_means = [np.mean(e) for e in mfcc]\n",
    "    \n",
    "    features = [np.mean(chroma_stft), np.std(chroma_stft), np.mean(rms), np.std(rms), np.mean(spec_cent), np.std(spec_cent),\n",
    "                np.mean(spec_bw), np.std(spec_bw), np.mean(rolloff), np.std(rolloff), np.mean(zcr), np.std(zcr)] + mfcc_means\n",
    "\n",
    "    return features\n",
    "\n",
    "X_train = np.array([extract_features_from_audio_data(data,sr) for data in dev_data])\n",
    "y_train = dev_labels  "
   ]
  },
  {
   "cell_type": "code",
   "execution_count": 187,
   "metadata": {},
   "outputs": [
    {
     "data": {
      "text/plain": [
       "RandomizedSearchCV(cv=5, error_score='raise-deprecating',\n",
       "                   estimator=RandomForestClassifier(bootstrap=True,\n",
       "                                                    class_weight=None,\n",
       "                                                    criterion='gini',\n",
       "                                                    max_depth=None,\n",
       "                                                    max_features='auto',\n",
       "                                                    max_leaf_nodes=None,\n",
       "                                                    min_impurity_decrease=0.0,\n",
       "                                                    min_impurity_split=None,\n",
       "                                                    min_samples_leaf=1,\n",
       "                                                    min_samples_split=2,\n",
       "                                                    min_weight_fraction_leaf=0.0,\n",
       "                                                    n_estimators='warn',\n",
       "                                                    n_jobs=None,\n",
       "                                                    oob_sc...\n",
       "                                                    random_state=None,\n",
       "                                                    verbose=0,\n",
       "                                                    warm_start=False),\n",
       "                   iid='warn', n_iter=200, n_jobs=-1,\n",
       "                   param_distributions={'max_depth': [5, 8, 15, 25, 50],\n",
       "                                        'max_features': ['auto', 'sqrt'],\n",
       "                                        'min_samples_leaf': [2, 5, 10],\n",
       "                                        'min_samples_split': [2, 5, 10, 15],\n",
       "                                        'n_estimators': [1200, 1400, 1600, 1800,\n",
       "                                                         2000]},\n",
       "                   pre_dispatch='2*n_jobs', random_state=42, refit=True,\n",
       "                   return_train_score=False, scoring='f1_macro', verbose=0)"
      ]
     },
     "execution_count": 187,
     "metadata": {},
     "output_type": "execute_result"
    }
   ],
   "source": [
    "# trying to find the best classifier\n",
    "# random_forest\n",
    "\n",
    "from sklearn.ensemble import RandomForestClassifier\n",
    "from sklearn.model_selection import RandomizedSearchCV\n",
    "\n",
    "params = {\n",
    "    \"n_estimators\": [1200,1400, 1600, 1800, 2000],\n",
    "    \"max_depth\": [5, 8, 15, 25, 50],\n",
    "    \"max_features\": ['auto', 'sqrt'],\n",
    "    \"min_samples_split\": [2, 5, 10, 15],\n",
    "    \"min_samples_leaf\": [2, 5, 10]\n",
    "}\n",
    "\n",
    "rf = RandomForestClassifier()\n",
    "rf_random = RandomizedSearchCV(estimator = rf, param_distributions = params, n_iter = 200, cv = 5, random_state=42, scoring='f1_macro', n_jobs = -1)\n",
    "rf_random.fit(X_train, y_train)"
   ]
  },
  {
   "cell_type": "code",
   "execution_count": 188,
   "metadata": {},
   "outputs": [
    {
     "name": "stdout",
     "output_type": "stream",
     "text": [
      "{'n_estimators': 1800, 'min_samples_split': 2, 'min_samples_leaf': 2, 'max_features': 'sqrt', 'max_depth': 25}\n",
      "0.9566428952672126\n"
     ]
    }
   ],
   "source": [
    "best_rf = rf_random.best_estimator_.fit(X_train,y_train)\n",
    "best_f1_macro = rf_random.best_score_\n",
    "print(rf_random.best_params_)\n",
    "print(best_f1_macro)"
   ]
  },
  {
   "cell_type": "code",
   "execution_count": 12,
   "metadata": {},
   "outputs": [],
   "source": [
    "X_test = np.array([extract_features_from_audio_data(data,sr) for data in eval_data])\n",
    "y_test = best_rf.predict(X_test)"
   ]
  },
  {
   "cell_type": "code",
   "execution_count": 13,
   "metadata": {},
   "outputs": [],
   "source": [
    "import csv\n",
    "\n",
    "with open(\"predictions.csv\", mode='w', encoding='utf-8', newline='') as f:\n",
    "    f_writer = csv.writer(f, delimiter=',', quoting=csv.QUOTE_MINIMAL)\n",
    "    f_writer.writerow([\"Id\", \"Predicted\"])\n",
    "    for i in range(len(eval_data)):\n",
    "        f_writer.writerow([i, y_test[i]])"
   ]
  }
 ],
 "metadata": {
  "kernelspec": {
   "display_name": "Python 3",
   "language": "python",
   "name": "python3"
  },
  "language_info": {
   "codemirror_mode": {
    "name": "ipython",
    "version": 3
   },
   "file_extension": ".py",
   "mimetype": "text/x-python",
   "name": "python",
   "nbconvert_exporter": "python",
   "pygments_lexer": "ipython3",
   "version": "3.7.4"
  }
 },
 "nbformat": 4,
 "nbformat_minor": 2
}
