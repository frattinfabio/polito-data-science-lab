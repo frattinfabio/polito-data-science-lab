{
 "cells": [
  {
   "cell_type": "code",
   "execution_count": 5,
   "metadata": {},
   "outputs": [],
   "source": [
    "from sklearn.datasets import load_wine\n",
    "import numpy as np\n",
    "\n",
    "dataset = load_wine()\n",
    "X = dataset[\"data\"]\n",
    "y = dataset[\"target\"]\n",
    "feature_names = dataset[\"feature_names\"]"
   ]
  },
  {
   "cell_type": "code",
   "execution_count": 6,
   "metadata": {},
   "outputs": [
    {
     "name": "stdout",
     "output_type": "stream",
     "text": [
      "There are 178 available records\n",
      "Class subdivision: (array([0, 1, 2]), array([59, 71, 48], dtype=int64))\n"
     ]
    }
   ],
   "source": [
    "print(f\"There are {X.shape[0]} available records\")\n",
    "print(f\"Class subdivision: {np.unique(y, return_counts=True)}\")"
   ]
  },
  {
   "cell_type": "code",
   "execution_count": 58,
   "metadata": {},
   "outputs": [],
   "source": [
    "from sklearn.tree import DecisionTreeClassifier\n",
    "from sklearn.model_selection import ParameterGrid\n",
    "from sklearn.metrics import accuracy_score\n",
    "from sklearn.model_selection import train_test_split\n",
    "from sklearn.model_selection import KFold\n",
    "\n",
    "params ={ \n",
    "            \"max_depth\": [None, 2, 4, 6, 8, 10],\n",
    "            \"splitter\": [\"best\", \"random\"],\n",
    "            \"min_samples_split\": [0.1, 0.2, 0.3, 0.4],\n",
    "            \"min_samples_leaf\": [0.02, 0.05, 0.1]\n",
    "        }\n",
    "\n",
    "\n",
    "X_train_valid, X_test, y_train_valid, y_test = train_test_split(X, y, test_size=0.2, random_state = 42)\n",
    "kf = KFold(12)"
   ]
  },
  {
   "cell_type": "code",
   "execution_count": 66,
   "metadata": {},
   "outputs": [
    {
     "name": "stdout",
     "output_type": "stream",
     "text": [
      "Best configuration: {'max_depth': 8, 'min_samples_leaf': 0.02, 'min_samples_split': 0.1, 'splitter': 'random'}\n",
      "Accuracy: 0.9166666666666666\n"
     ]
    }
   ],
   "source": [
    "config_scores = []\n",
    "for config in ParameterGrid(params):\n",
    "    clf = DecisionTreeClassifier(**config)\n",
    "    acc_scores = []\n",
    "    \n",
    "    for train_index, valid_index in kf.split(X_train_valid):\n",
    "        X_train = X_train_valid[train_index]\n",
    "        y_train = y_train_valid[train_index]\n",
    "        X_valid = X_train_valid[valid_index]\n",
    "        y_valid = y_train_valid[valid_index]\n",
    "\n",
    "        clf = clf.fit(X_train,y_train)\n",
    "        y_pred = clf.predict(X_valid)\n",
    "        accuracy = accuracy_score(y_valid,y_pred)\n",
    "        acc_scores.append(accuracy)\n",
    "     \n",
    "    avg_accuracy = np.mean(acc_scores)\n",
    "    config_scores.append((config, avg_accuracy))\n",
    "\n",
    "best_config = max(config_scores, key = lambda x : x[1])[0]\n",
    "best_clf = DecisionTreeClassifier(**best_config).fit(X_train_valid, y_train_valid)\n",
    "best_accuracy = max(config_scores, key = lambda x : x[1])[1]\n",
    "\n",
    "print(f\"Best configuration: {best_config}\")\n",
    "print(f\"Accuracy: {best_accuracy}\")"
   ]
  },
  {
   "cell_type": "code",
   "execution_count": 67,
   "metadata": {},
   "outputs": [
    {
     "name": "stdout",
     "output_type": "stream",
     "text": [
      "Accuracy on new data: 0.9166666666666666\n"
     ]
    }
   ],
   "source": [
    "y_pred_new_data = best_clf.predict(X_test)\n",
    "accuracy_on_new_data = accuracy_score(y_test,y_pred_new_data)\n",
    "print(f\"Accuracy on new data: {accuracy_on_new_data}\")"
   ]
  },
  {
   "cell_type": "code",
   "execution_count": 68,
   "metadata": {},
   "outputs": [],
   "source": [
    "import pydot\n",
    "from IPython.display import Image\n",
    "from sklearn.tree import export_graphviz\n",
    "\n",
    "dot_code = export_graphviz(best_clf, feature_names = feature_names, rounded=True)\n",
    "with open(\"dot_code.txt\", \"w\") as f:\n",
    "    f.write(dot_code)\n"
   ]
  }
 ],
 "metadata": {
  "kernelspec": {
   "display_name": "Python 3",
   "language": "python",
   "name": "python3"
  },
  "language_info": {
   "codemirror_mode": {
    "name": "ipython",
    "version": 3
   },
   "file_extension": ".py",
   "mimetype": "text/x-python",
   "name": "python",
   "nbconvert_exporter": "python",
   "pygments_lexer": "ipython3",
   "version": "3.7.4"
  }
 },
 "nbformat": 4,
 "nbformat_minor": 2
}
