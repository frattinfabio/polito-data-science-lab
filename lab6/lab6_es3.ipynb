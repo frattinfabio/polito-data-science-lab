{
 "cells": [
  {
   "cell_type": "code",
   "execution_count": 2,
   "metadata": {},
   "outputs": [],
   "source": [
    "from sklearn.datasets import fetch_openml\n",
    "dataset = fetch_openml(\"mnist_784\")\n",
    "X = dataset[\"data\"]\n",
    "y = dataset[\"target\"]\n"
   ]
  },
  {
   "cell_type": "code",
   "execution_count": 3,
   "metadata": {},
   "outputs": [],
   "source": [
    "from sklearn.model_selection import train_test_split\n",
    "\n",
    "X_train, X_test, y_train, y_test = train_test_split(X, y, test_size = 10000)"
   ]
  },
  {
   "cell_type": "code",
   "execution_count": 4,
   "metadata": {},
   "outputs": [
    {
     "name": "stdout",
     "output_type": "stream",
     "text": [
      "Accuracy: 0.87\n"
     ]
    }
   ],
   "source": [
    "from sklearn.tree import DecisionTreeClassifier\n",
    "from sklearn.metrics import accuracy_score\n",
    "\n",
    "clf = DecisionTreeClassifier().fit(X_train,y_train)\n",
    "y_pred = clf.predict(X_test)\n",
    "accuracy = accuracy_score(y_test, y_pred)\n",
    "print(f\"Accuracy: {accuracy:.2f}\")"
   ]
  },
  {
   "cell_type": "code",
   "execution_count": 36,
   "metadata": {},
   "outputs": [],
   "source": [
    "import numpy as np\n",
    "import random as rnd\n",
    "import math\n",
    "\n",
    "class MyRandomForestClassifier():\n",
    "    \n",
    "    def __init__(self, n_estimators, max_features):\n",
    "        self.n_estimators = n_estimators\n",
    "        self.max_features = max_features\n",
    "        self.decision_trees = []\n",
    "    \n",
    "    def fit(self, X, y):\n",
    "        X = np.array(X)\n",
    "        y = np.array(y)\n",
    "        \n",
    "        self.decision_trees = []\n",
    "        features = [i for i in range(X.shape[1])]        \n",
    "        y.shape = (y.shape[0],1)\n",
    "        X_y_combined = np.concatenate((X,y), axis = 1)\n",
    "        \n",
    "        for i in range(self.n_estimators):\n",
    "            selected_features = rnd.sample(features, self.max_features)\n",
    "            X_y_extracted = np.array(rnd.sample(list(X_y_combined), math.ceil(X.shape[0]*0.6)))\n",
    "            X_extracted = X_y_extracted[:,:-1][:,selected_features]\n",
    "            y_extracted = X_y_extracted[:,-1:]\n",
    "            tree = DecisionTreeClassifier().fit(X_extracted, y_extracted)\n",
    "            self.decision_trees.append((tree, selected_features))\n",
    "            \n",
    "        return self\n",
    "    \n",
    "    def predict(self, X):\n",
    "        def most_frequent(List): \n",
    "            return max(set(List), key = List.count)\n",
    "        \n",
    "        predictions = []\n",
    "        y_pred = []\n",
    "        \n",
    "        for tree,features in self.decision_trees:\n",
    "            single_pred = tree.predict(X[:,features])\n",
    "            predictions.append(single_pred)\n",
    "        predictions = np.array(predictions)\n",
    "        for i in range(predictions.shape[1]):\n",
    "            single_obs_preds = list(predictions[:,i])\n",
    "            y_pred.append(most_frequent(single_obs_preds))\n",
    "        \n",
    "        return y_pred\n",
    "            \n",
    "            "
   ]
  },
  {
   "cell_type": "code",
   "execution_count": 37,
   "metadata": {},
   "outputs": [
    {
     "name": "stdout",
     "output_type": "stream",
     "text": [
      "Accuracy with 100 trees for each forest: 0.95\n"
     ]
    }
   ],
   "source": [
    "from sklearn.ensemble import RandomForestClassifier\n",
    "\n",
    "B = math.ceil(math.sqrt(X.shape[1]))\n",
    "my_results = []\n",
    "sklearn_results = []\n",
    "\n",
    "for n_trees in range(10,110,10):\n",
    "    \n",
    "    my_rfclf = MyRandomForestClassifier(n_trees, B).fit(X_train,y_train)\n",
    "    my_y_pred = my_ rfclf.predict(X_test)\n",
    "    my_accuracy = accuracy_score(y_test, my_y_pred)\n",
    "    my_results.append(my_accuracy)\n",
    "    \n",
    "    y_train.shape = (y_train.shape[0],)\n",
    "    rfclf = RandomForestClassifier(n_estimators= n_trees,max_features= B).fit(X_train,y_train)\n",
    "    y_pred = rfclf.predict(X_test)\n",
    "    accuracy = accuracy_score(y_test, y_pred)\n",
    "    sklearn_results.append(accuracy)"
   ]
  },
  {
   "cell_type": "code",
   "execution_count": 68,
   "metadata": {},
   "outputs": [
    {
     "data": {
      "image/png": "[encoded data removed]",
      "text/plain": [
       "<Figure size 720x720 with 1 Axes>"
      ]
     },
     "metadata": {
      "needs_background": "light"
     },
     "output_type": "display_data"
    }
   ],
   "source": [
    "import matplotlib.pyplot as plt\n",
    "\n",
    "x = [10,20,30,40,50,60,70,80,90,100]\n",
    "fig,ax = plt.subplots(figsize= (10,10))\n",
    "ax.plot(x, my_results , 'b')\n",
    "ax.plot(x, sklearn_results, 'r')\n",
    "ax.set_xlabel(\"Number of trees\")\n",
    "ax.set_ylabel(\"Accuracy\")\n",
    "plt.show()"
   ]
  },
  {
   "cell_type": "code",
   "execution_count": 40,
   "metadata": {},
   "outputs": [],
   "source": [
    "my_rfclf = MyRandomForestClassifier(100, B).fit(X_train,y_train)"
   ]
  },
  {
   "cell_type": "code",
   "execution_count": 84,
   "metadata": {},
   "outputs": [],
   "source": [
    "def get_feature_importances(rfclf):\n",
    "    feature_importances_list = np.full(X.shape[1],0, dtype=float)\n",
    "    \n",
    "    for tree,selected_features in rfclf.decision_trees:\n",
    "        feature_importances = tree.feature_importances_\n",
    "        for i in range(len(selected_features)):\n",
    "            feature = selected_features[i]\n",
    "            feature_importances_list[feature] += feature_importances[i]\n",
    "\n",
    "    feat_imp_sum = sum(feature_importances_list)\n",
    "    feature_importances_list = [x/feat_imp_sum for x in feature_importances_list]\n",
    "    return feature_importances_list"
   ]
  },
  {
   "cell_type": "code",
   "execution_count": 87,
   "metadata": {},
   "outputs": [
    {
     "data": {
      "text/plain": [
       "<matplotlib.axes._subplots.AxesSubplot at 0x177d984f148>"
      ]
     },
     "execution_count": 87,
     "metadata": {},
     "output_type": "execute_result"
    },
    {
     "data": {
      "image/png": "[encoded data removed]",
      "text/plain": [
       "<Figure size 432x288 with 2 Axes>"
      ]
     },
     "metadata": {
      "needs_background": "light"
     },
     "output_type": "display_data"
    }
   ],
   "source": [
    "import seaborn as sns\n",
    "\n",
    "feature_importances = get_feature_importances(my_rfclf)\n",
    "sns.heatmap(np.reshape(feature_importances, (28,28)), cmap='binary') "
   ]
  },
  {
   "cell_type": "code",
   "execution_count": 89,
   "metadata": {},
   "outputs": [
    {
     "data": {
      "text/plain": [
       "<matplotlib.axes._subplots.AxesSubplot at 0x177db10b788>"
      ]
     },
     "execution_count": 89,
     "metadata": {},
     "output_type": "execute_result"
    },
    {
     "data": {
      "image/png": "[encoded data removed]",
      "text/plain": [
       "<Figure size 432x288 with 2 Axes>"
      ]
     },
     "metadata": {
      "needs_background": "light"
     },
     "output_type": "display_data"
    }
   ],
   "source": [
    "rfclf = RandomForestClassifier(n_estimators= 100,max_features= B).fit(X_train,y_train)\n",
    "feature_importances = rfclf.feature_importances_\n",
    "sns.heatmap(np.reshape(feature_importances, (28,28)), cmap='binary') "
   ]
  }
 ],
 "metadata": {
  "kernelspec": {
   "display_name": "Python 3",
   "language": "python",
   "name": "python3"
  },
  "language_info": {
   "codemirror_mode": {
    "name": "ipython",
    "version": 3
   },
   "file_extension": ".py",
   "mimetype": "text/x-python",
   "name": "python",
   "nbconvert_exporter": "python",
   "pygments_lexer": "ipython3",
   "version": "3.7.4"
  }
 },
 "nbformat": 4,
 "nbformat_minor": 2
}
