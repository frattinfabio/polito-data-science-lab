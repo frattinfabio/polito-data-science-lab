{
 "cells": [
  {
   "cell_type": "code",
   "execution_count": 1,
   "metadata": {},
   "outputs": [],
   "source": [
    "# LAB2 es.2\n",
    "\n",
    "# reading the dataset as a list of maps\n",
    "\n",
    "import csv\n",
    "\n",
    "list_of_tuples = []\n",
    "with open(\"aclimdb_reviews_train.txt\", encoding = 'utf-8') as file:\n",
    "    next(file) # skipping the header\n",
    "    for cols in csv.reader(file):\n",
    "        list_of_tuples.append({\"review\": cols[0], \"label\": 'positive' if cols[1] == 1 else 'negative'})"
   ]
  },
  {
   "cell_type": "code",
   "execution_count": 2,
   "metadata": {},
   "outputs": [],
   "source": [
    "# tokenizing each review\n",
    "\n",
    "import string\n",
    "\n",
    "def tokenize(docs):\n",
    "    tokens = []\n",
    "    for doc in docs:\n",
    "        for punct in string.punctuation:\n",
    "            doc = doc.replace(punct, \" \")\n",
    "        split_doc = [token.lower() for token in doc.split(\" \") if token]\n",
    "        tokens.append(split_doc)\n",
    "    \n",
    "    return tokens\n",
    "\n",
    "list_of_reviews = list(map(lambda x: x[\"review\"], list_of_tuples))\n",
    "list_of_tokenized_reviews = tokenize(list_of_reviews)"
   ]
  },
  {
   "cell_type": "code",
   "execution_count": 7,
   "metadata": {},
   "outputs": [
    {
     "name": "stdout",
     "output_type": "stream",
     "text": [
      "1\n"
     ]
    }
   ],
   "source": [
    "# TF analysis on each review\n",
    "\n",
    "def term_frequency_TF(term_index, sorted_doc):\n",
    "    term = sorted_doc[term_index]\n",
    "    next_index = term_index + 1\n",
    "    while(next_index < len(sorted_doc) and sorted_doc[next_index] == term):\n",
    "        next_index += 1\n",
    "    return next_index - term_index\n",
    "\n",
    "\n",
    "list_of_frequencies_TF = []\n",
    "for tokenized_review in list_of_tokenized_reviews:\n",
    "    term_freq_dict = {}\n",
    "    tokenized_review.sort()\n",
    "    last_term = ''\n",
    "    for index in range(0, len(tokenized_review)):\n",
    "        new_term = tokenized_review[index]\n",
    "        if(new_term != last_term):\n",
    "            freq = term_frequency_TF(index, tokenized_review)\n",
    "            term_freq_dict[f\"{new_term}\"] = freq    \n",
    "        last_term = new_term\n",
    "    list_of_frequencies_TF.append(term_freq_dict)\n",
    "       "
   ]
  },
  {
   "cell_type": "code",
   "execution_count": 6,
   "metadata": {},
   "outputs": [
    {
     "name": "stdout",
     "output_type": "stream",
     "text": [
      "[('the', 0.008314469604085238), ('a', 0.03351541933781697), ('and', 0.03401190259170586), ('of', 0.05226218466281087), ('to', 0.06293979977387414), ('this', 0.09924591465797242), ('is', 0.1086102347240488), ('it', 0.11536595914077863), ('in', 0.12606221366364628), ('that', 0.20722099077039452)]\n"
     ]
    }
   ],
   "source": [
    "# DF/IDF analysis on each term\n",
    "\n",
    "import math\n",
    "\n",
    "def term_frequency_DF(term, tokenized_docs):\n",
    "    freq = 0\n",
    "    for tokenized_doc in tokenized_docs:\n",
    "        if term in tokenized_doc:\n",
    "            freq += 1\n",
    "    return freq\n",
    "\n",
    "dict_of_frequencies_DF = {}\n",
    "dict_of_frequencies_IDF = {}\n",
    "N = len(list_of_tuples)\n",
    "for review_frequency_TF in list_of_frequencies_TF:\n",
    "    for term in review_frequency_TF.keys(): \n",
    "        if term not in dict_of_frequencies_DF:\n",
    "            dict_of_frequencies_DF[term] = 1\n",
    "        else:\n",
    "            dict_of_frequencies_DF[term] += 1\n",
    "            \n",
    "for term in dict_of_frequencies_DF:\n",
    "    dict_of_frequencies_IDF[term] = math.log(N/dict_of_frequencies_DF[term])\n",
    "print(sorted(dict_of_frequencies_IDF.items(), key = lambda x: x[1], reverse = True)[:10])\n"
   ]
  },
  {
   "cell_type": "code",
   "execution_count": 8,
   "metadata": {},
   "outputs": [
    {
     "name": "stdout",
     "output_type": "stream",
     "text": [
      "[('the', 0.016628939208170476), ('of', 0.05226218466281087), ('this', 0.09924591465797242), ('a', 0.16757709668908488), ('that', 0.20722099077039452), ('is', 0.3258307041721464), ('as', 0.4389391649658812), ('are', 0.5868431101899066), ('an', 0.7166205367455873), ('there', 0.837387134278689), ('movie', 0.9813925049416498), ('for', 1.005075851886905), ('no', 1.1141321003261466), ('watch', 1.5199629060064976), ('character', 1.641547966352334), ('where', 1.655900786844441), ('scene', 1.8767946184246356), ('actually', 1.982532640511814), ('lot', 2.0319474551515233), ('funny', 2.0743346043116913), ('gets', 2.257229391273248), ('sure', 2.3530366364901436), ('police', 3.460947386067929), ('imagine', 3.587045148232668), ('memorable', 3.6936910111111585), ('respect', 3.9845936982629815), ('joe', 4.137669686960474), ('gem', 4.291820366787733), ('absolute', 4.315490110873637), ('jr', 4.5932416151228175), ('alan', 4.625372893305611), ('scream', 4.706096104578052), ('listed', 5.339139361068292), ('quotes', 5.5940316106970815), ('maureen', 6.437751649736401), ('sgt', 6.4630694577206915), ('hale', 6.515713191206113), ('piscopo', 7.418580902748128), ('stealer', 7.487573774235079), ('stapleton', 7.561681746388801), ('skipper', 7.929406526514119), ('moroni', 8.740336742730447)]\n"
     ]
    }
   ],
   "source": [
    "# TF-IDF analysis on each review\n",
    "\n",
    "list_of_frequencies_TFIDF = []\n",
    "for review_frequency_TF in list_of_frequencies_TF:\n",
    "    review_frequency_TFIDF = {}\n",
    "    for term in review_frequency_TF:\n",
    "        review_frequency_TFIDF[term] = review_frequency_TF[term] * dict_of_frequencies_IDF[term]\n",
    "    list_of_frequencies_TFIDF.append(review_frequency_TFIDF)\n",
    "print(sorted(list_of_frequencies_TFIDF[0].items(), key = lambda x: x[1], reverse = True))\n",
    "   "
   ]
  },
  {
   "cell_type": "code",
   "execution_count": null,
   "metadata": {},
   "outputs": [],
   "source": []
  }
 ],
 "metadata": {
  "kernelspec": {
   "display_name": "Python 3",
   "language": "python",
   "name": "python3"
  },
  "language_info": {
   "codemirror_mode": {
    "name": "ipython",
    "version": 3
   },
   "file_extension": ".py",
   "mimetype": "text/x-python",
   "name": "python",
   "nbconvert_exporter": "python",
   "pygments_lexer": "ipython3",
   "version": "3.7.4"
  }
 },
 "nbformat": 4,
 "nbformat_minor": 2
}
